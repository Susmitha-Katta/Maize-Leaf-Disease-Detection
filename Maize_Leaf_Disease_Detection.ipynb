{
  "cells": [
    {
      "cell_type": "code",
      "execution_count": null,
      "metadata": {
        "colab": {
          "base_uri": "https://localhost:8080/"
        },
        "id": "wFfW17hzpgz4",
        "outputId": "3bc54940-5e16-439c-879f-771e4bb5233f"
      },
      "outputs": [
        {
          "output_type": "stream",
          "name": "stdout",
          "text": [
            "Requirement already satisfied: kaggle in /usr/local/lib/python3.11/dist-packages (1.6.17)\n",
            "Requirement already satisfied: six>=1.10 in /usr/local/lib/python3.11/dist-packages (from kaggle) (1.17.0)\n",
            "Requirement already satisfied: certifi>=2023.7.22 in /usr/local/lib/python3.11/dist-packages (from kaggle) (2025.1.31)\n",
            "Requirement already satisfied: python-dateutil in /usr/local/lib/python3.11/dist-packages (from kaggle) (2.8.2)\n",
            "Requirement already satisfied: requests in /usr/local/lib/python3.11/dist-packages (from kaggle) (2.32.3)\n",
            "Requirement already satisfied: tqdm in /usr/local/lib/python3.11/dist-packages (from kaggle) (4.67.1)\n",
            "Requirement already satisfied: python-slugify in /usr/local/lib/python3.11/dist-packages (from kaggle) (8.0.4)\n",
            "Requirement already satisfied: urllib3 in /usr/local/lib/python3.11/dist-packages (from kaggle) (2.3.0)\n",
            "Requirement already satisfied: bleach in /usr/local/lib/python3.11/dist-packages (from kaggle) (6.2.0)\n",
            "Requirement already satisfied: webencodings in /usr/local/lib/python3.11/dist-packages (from bleach->kaggle) (0.5.1)\n",
            "Requirement already satisfied: text-unidecode>=1.3 in /usr/local/lib/python3.11/dist-packages (from python-slugify->kaggle) (1.3)\n",
            "Requirement already satisfied: charset-normalizer<4,>=2 in /usr/local/lib/python3.11/dist-packages (from requests->kaggle) (3.4.1)\n",
            "Requirement already satisfied: idna<4,>=2.5 in /usr/local/lib/python3.11/dist-packages (from requests->kaggle) (3.10)\n"
          ]
        }
      ],
      "source": [
        "!pip install kaggle"
      ]
    },
    {
      "cell_type": "code",
      "source": [
        "import os\n",
        "from zipfile import ZipFile\n",
        "import json\n",
        "import shutil"
      ],
      "metadata": {
        "id": "IGZpaO8D1mUn"
      },
      "execution_count": null,
      "outputs": []
    },
    {
      "cell_type": "code",
      "execution_count": null,
      "metadata": {
        "id": "9b44NEIBDYCy"
      },
      "outputs": [],
      "source": [
        "kaggle_credentails = json.load(open(\"kaggle.json\"))"
      ]
    },
    {
      "cell_type": "code",
      "execution_count": null,
      "metadata": {
        "id": "ZBf6IEO3Dc5M"
      },
      "outputs": [],
      "source": [
        "os.environ['Kaggle_Username'] = kaggle_credentails['username']\n",
        "os.environ['Kaggle_Key'] = kaggle_credentails['key']"
      ]
    },
    {
      "cell_type": "code",
      "execution_count": null,
      "metadata": {
        "colab": {
          "base_uri": "https://localhost:8080/"
        },
        "id": "Te9iBvcCpjIY",
        "outputId": "3fbec43f-1946-4d22-ba1c-ea0e5600b817"
      },
      "outputs": [
        {
          "output_type": "stream",
          "name": "stdout",
          "text": [
            "Dataset URL: https://www.kaggle.com/datasets/smaranjitghose/corn-or-maize-leaf-disease-dataset\n",
            "License(s): copyright-authors\n",
            "Downloading corn-or-maize-leaf-disease-dataset.zip to /content\n",
            " 98% 158M/161M [00:08<00:00, 24.3MB/s]\n",
            "100% 161M/161M [00:08<00:00, 20.9MB/s]\n"
          ]
        }
      ],
      "source": [
        "!kaggle datasets download -d smaranjitghose/corn-or-maize-leaf-disease-dataset"
      ]
    },
    {
      "cell_type": "code",
      "execution_count": null,
      "metadata": {
        "colab": {
          "base_uri": "https://localhost:8080/"
        },
        "id": "O3JJlsOJpxYw",
        "outputId": "a261d2e0-74d2-428d-f82f-4722bcfcb93e"
      },
      "outputs": [
        {
          "output_type": "stream",
          "name": "stdout",
          "text": [
            "corn-or-maize-leaf-disease-dataset.zip\tkaggle.json  sample_data\n"
          ]
        }
      ],
      "source": [
        "!ls"
      ]
    },
    {
      "cell_type": "markdown",
      "metadata": {
        "id": "ewTgy31tEtvx"
      },
      "source": [
        "Unzipping the dataset"
      ]
    },
    {
      "cell_type": "code",
      "execution_count": null,
      "metadata": {
        "id": "JPBYFV4qEvjJ"
      },
      "outputs": [],
      "source": [
        "with ZipFile(\"corn-or-maize-leaf-disease-dataset.zip\",'r') as zip_ref:\n",
        "  zip_ref.extractall()"
      ]
    },
    {
      "cell_type": "code",
      "source": [
        "import os\n",
        "import shutil\n",
        "import matplotlib.pyplot as plt\n",
        "from collections import Counter\n",
        "\n",
        "# Define dataset path\n",
        "dataset_path = \"/content/data\"\n",
        "\n",
        "# Count samples per class\n",
        "class_counts = {}\n",
        "for class_name in os.listdir(dataset_path):\n",
        "    class_counts[class_name] = len(os.listdir(os.path.join(dataset_path, class_name)))\n",
        "\n",
        "# Plot class distribution\n",
        "plt.figure(figsize=(8, 5))\n",
        "plt.bar(class_counts.keys(), class_counts.values(), color=\"skyblue\")\n",
        "plt.xlabel(\"Class\")\n",
        "plt.ylabel(\"Number of Images\")\n",
        "plt.title(\"Class Distribution Before Augmentation\")\n",
        "plt.xticks(rotation=45)\n",
        "plt.show()\n",
        "\n",
        "print(\"Class Distribution:\", class_counts)\n"
      ],
      "metadata": {
        "colab": {
          "base_uri": "https://localhost:8080/",
          "height": 578
        },
        "id": "pQ9yqmpN6Ty2",
        "outputId": "d7529de0-af64-45aa-d7fa-ea79e6b1e890"
      },
      "execution_count": null,
      "outputs": [
        {
          "output_type": "display_data",
          "data": {
            "text/plain": [
              "<Figure size 800x500 with 1 Axes>"
            ],
            "image/png": "[encoded data removed]"
          },
          "metadata": {}
        },
        {
          "output_type": "stream",
          "name": "stdout",
          "text": [
            "Class Distribution: {'Gray_Leaf_Spot': 574, 'Common_Rust': 1306, 'Healthy': 1162, 'Blight': 1146}\n"
          ]
        }
      ]
    },
    {
      "cell_type": "code",
      "source": [
        "import tensorflow as tf\n",
        "from tensorflow.keras.applications import ResNet50, VGG16, EfficientNetB0, DenseNet121, MobileNetV2, InceptionV3, Xception\n",
        "from tensorflow.keras.applications.resnet50 import preprocess_input\n",
        "from tensorflow.keras.layers import Dense, Dropout, GlobalAveragePooling2D, BatchNormalization\n",
        "from tensorflow.keras.models import Model\n",
        "from tensorflow.keras.preprocessing.image import ImageDataGenerator\n",
        "\n",
        "# Function to create a model with transfer learning and fine-tuning\n",
        "def create_transfer_learning_model(base_model, num_classes):\n",
        "    base_model.trainable = False\n",
        "\n",
        "    x = base_model.output\n",
        "    x = GlobalAveragePooling2D()(x)\n",
        "    x = Dense(512, activation='relu')(x)\n",
        "    x = BatchNormalization()(x)\n",
        "    x = Dropout(0.4)(x)\n",
        "    x = Dense(256, activation='relu')(x)\n",
        "    x = BatchNormalization()(x)\n",
        "    x = Dropout(0.3)(x)\n",
        "    predictions = Dense(num_classes, activation='softmax')(x)\n",
        "\n",
        "    model = Model(inputs=base_model.input, outputs=predictions)\n",
        "    model.compile(optimizer=tf.keras.optimizers.AdamW(learning_rate=0.0001, weight_decay=1e-4),\n",
        "                  loss='categorical_crossentropy', metrics=['accuracy'])\n",
        "    return model\n"
      ],
      "metadata": {
        "id": "Mz5RPhY8HDfM"
      },
      "execution_count": null,
      "outputs": []
    },
    {
      "cell_type": "code",
      "source": [
        "def get_lr_scheduler():\n",
        "    return tf.keras.callbacks.ReduceLROnPlateau(monitor='val_loss', factor=0.5, patience=3, verbose=1, min_lr=1e-6)"
      ],
      "metadata": {
        "id": "OmX1qLk1HGal"
      },
      "execution_count": null,
      "outputs": []
    },
    {
      "cell_type": "code",
      "source": [
        "data_augmentation = tf.keras.Sequential([\n",
        "    tf.keras.layers.RandomFlip(\"horizontal\"),\n",
        "    tf.keras.layers.RandomRotation(0.2),\n",
        "    tf.keras.layers.RandomZoom(0.2)\n",
        "])"
      ],
      "metadata": {
        "id": "mcwLa9XFHKW0"
      },
      "execution_count": null,
      "outputs": []
    },
    {
      "cell_type": "code",
      "source": [
        "input_shape = (224, 224, 3)\n",
        "num_classes = 4"
      ],
      "metadata": {
        "id": "ZTjbEsGVHMxu"
      },
      "execution_count": null,
      "outputs": []
    },
    {
      "cell_type": "code",
      "source": [
        "models = {\n",
        "    'VGG16': create_transfer_learning_model(VGG16(weights='imagenet', include_top=False, input_shape=input_shape), num_classes),\n",
        "    'DenseNet121': create_transfer_learning_model(DenseNet121(weights='imagenet', include_top=False, input_shape=input_shape), num_classes),\n",
        "    'MobileNetV2': create_transfer_learning_model(MobileNetV2(weights='imagenet', include_top=False, input_shape=input_shape), num_classes),\n",
        "    'InceptionV3': create_transfer_learning_model(InceptionV3(weights='imagenet', include_top=False, input_shape=input_shape), num_classes),\n",
        "    'Xception': create_transfer_learning_model(Xception(weights='imagenet', include_top=False, input_shape=input_shape), num_classes)\n",
        "}"
      ],
      "metadata": {
        "colab": {
          "base_uri": "https://localhost:8080/"
        },
        "id": "HDFXB4bOHO_w",
        "outputId": "ae76d87a-5ce3-4da0-8ae5-002a824c69dd"
      },
      "execution_count": null,
      "outputs": [
        {
          "output_type": "stream",
          "name": "stdout",
          "text": [
            "Downloading data from https://storage.googleapis.com/tensorflow/keras-applications/vgg16/vgg16_weights_tf_dim_ordering_tf_kernels_notop.h5\n",
            "\u001b[1m58889256/58889256\u001b[0m \u001b[32m━━━━━━━━━━━━━━━━━━━━\u001b[0m\u001b[37m\u001b[0m \u001b[1m4s\u001b[0m 0us/step\n",
            "Downloading data from https://storage.googleapis.com/tensorflow/keras-applications/densenet/densenet121_weights_tf_dim_ordering_tf_kernels_notop.h5\n",
            "\u001b[1m29084464/29084464\u001b[0m \u001b[32m━━━━━━━━━━━━━━━━━━━━\u001b[0m\u001b[37m\u001b[0m \u001b[1m2s\u001b[0m 0us/step\n",
            "Downloading data from https://storage.googleapis.com/tensorflow/keras-applications/mobilenet_v2/mobilenet_v2_weights_tf_dim_ordering_tf_kernels_1.0_224_no_top.h5\n",
            "\u001b[1m9406464/9406464\u001b[0m \u001b[32m━━━━━━━━━━━━━━━━━━━━\u001b[0m\u001b[37m\u001b[0m \u001b[1m2s\u001b[0m 0us/step\n",
            "Downloading data from https://storage.googleapis.com/tensorflow/keras-applications/inception_v3/inception_v3_weights_tf_dim_ordering_tf_kernels_notop.h5\n",
            "\u001b[1m87910968/87910968\u001b[0m \u001b[32m━━━━━━━━━━━━━━━━━━━━\u001b[0m\u001b[37m\u001b[0m \u001b[1m5s\u001b[0m 0us/step\n",
            "Downloading data from https://storage.googleapis.com/tensorflow/keras-applications/xception/xception_weights_tf_dim_ordering_tf_kernels_notop.h5\n",
            "\u001b[1m83683744/83683744\u001b[0m \u001b[32m━━━━━━━━━━━━━━━━━━━━\u001b[0m\u001b[37m\u001b[0m \u001b[1m5s\u001b[0m 0us/step\n"
          ]
        }
      ]
    },
    {
      "cell_type": "code",
      "source": [
        "# Custom CNN Model with batch normalization\n",
        "def create_custom_cnn(num_classes):\n",
        "    model = tf.keras.Sequential([\n",
        "        data_augmentation,\n",
        "        tf.keras.layers.Conv2D(32, (3, 3), activation='relu', input_shape=input_shape),\n",
        "        tf.keras.layers.BatchNormalization(),\n",
        "        tf.keras.layers.MaxPooling2D((2, 2)),\n",
        "        tf.keras.layers.Conv2D(64, (3, 3), activation='relu'),\n",
        "        tf.keras.layers.BatchNormalization(),\n",
        "        tf.keras.layers.MaxPooling2D((2, 2)),\n",
        "        tf.keras.layers.Conv2D(128, (3, 3), activation='relu'),\n",
        "        tf.keras.layers.BatchNormalization(),\n",
        "        tf.keras.layers.MaxPooling2D((2, 2)),\n",
        "        tf.keras.layers.Flatten(),\n",
        "        tf.keras.layers.Dense(256, activation='relu'),\n",
        "        tf.keras.layers.BatchNormalization(),\n",
        "        tf.keras.layers.Dropout(0.4),\n",
        "        tf.keras.layers.Dense(num_classes, activation='softmax')\n",
        "    ])\n",
        "    model.compile(optimizer=tf.keras.optimizers.AdamW(learning_rate=0.0001, weight_decay=1e-4),\n",
        "                  loss='categorical_crossentropy', metrics=['accuracy'])\n",
        "    return model\n",
        "\n",
        "custom_cnn_model = create_custom_cnn(num_classes)"
      ],
      "metadata": {
        "colab": {
          "base_uri": "https://localhost:8080/"
        },
        "id": "zfBJ1sAiHRT8",
        "outputId": "06172a3c-0621-4b28-a851-b9a655bfe94d"
      },
      "execution_count": null,
      "outputs": [
        {
          "output_type": "stream",
          "name": "stderr",
          "text": [
            "/usr/local/lib/python3.11/dist-packages/keras/src/layers/convolutional/base_conv.py:107: UserWarning: Do not pass an `input_shape`/`input_dim` argument to a layer. When using Sequential models, prefer using an `Input(shape)` object as the first layer in the model instead.\n",
            "  super().__init__(activity_regularizer=activity_regularizer, **kwargs)\n"
          ]
        }
      ]
    },
    {
      "cell_type": "code",
      "source": [
        "# Data Generators\n",
        "datagen = ImageDataGenerator(rescale=1./255, validation_split=0.2)\n",
        "train_generator = datagen.flow_from_directory('/content/data', target_size=(224, 224), batch_size=32, class_mode='categorical', subset='training')\n",
        "val_generator = datagen.flow_from_directory('/content/data', target_size=(224, 224), batch_size=32, class_mode='categorical', subset='validation')"
      ],
      "metadata": {
        "colab": {
          "base_uri": "https://localhost:8080/"
        },
        "id": "dMIQT3hUHUZg",
        "outputId": "49e7ffc4-bc78-4e4e-89e3-1a46415265bd"
      },
      "execution_count": null,
      "outputs": [
        {
          "output_type": "stream",
          "name": "stdout",
          "text": [
            "Found 3352 images belonging to 4 classes.\n",
            "Found 836 images belonging to 4 classes.\n"
          ]
        }
      ]
    },
    {
      "cell_type": "code",
      "source": [
        "# Training and Validation\n",
        "def train_model(model, train_generator, val_generator, epochs=20):\n",
        "    history = model.fit(train_generator, validation_data=val_generator, epochs=epochs, callbacks=[get_lr_scheduler()])\n",
        "    val_acc = max(history.history['val_accuracy'])\n",
        "    print(f'Best Validation Accuracy: {val_acc:.4f}')\n",
        "    return history"
      ],
      "metadata": {
        "id": "61dpnj0wHZds"
      },
      "execution_count": null,
      "outputs": []
    },
    {
      "cell_type": "code",
      "source": [
        "# Train each model\n",
        "histories = {}\n",
        "for name, model in models.items():\n",
        "    print(f'Training {name}...')\n",
        "    histories[name] = train_model(model, train_generator, val_generator)"
      ],
      "metadata": {
        "colab": {
          "base_uri": "https://localhost:8080/"
        },
        "id": "rgBMqqTrHjob",
        "outputId": "a3305072-f511-4db9-a4fd-2af894269eb9"
      },
      "execution_count": null,
      "outputs": [
        {
          "output_type": "stream",
          "name": "stderr",
          "text": [
            "/usr/local/lib/python3.11/dist-packages/keras/src/trainers/data_adapters/py_dataset_adapter.py:121: UserWarning: Your `PyDataset` class should call `super().__init__(**kwargs)` in its constructor. `**kwargs` can include `workers`, `use_multiprocessing`, `max_queue_size`. Do not pass these arguments to `fit()`, as they will be ignored.\n",
            "  self._warn_if_super_not_called()\n"
          ]
        },
        {
          "output_type": "stream",
          "name": "stdout",
          "text": [
            "Training VGG16...\n",
            "Epoch 1/20\n",
            "\u001b[1m105/105\u001b[0m \u001b[32m━━━━━━━━━━━━━━━━━━━━\u001b[0m\u001b[37m\u001b[0m \u001b[1m50s\u001b[0m 327ms/step - accuracy: 0.5850 - loss: 1.1231 - val_accuracy: 0.5179 - val_loss: 1.0688 - learning_rate: 1.0000e-04\n",
            "Epoch 2/20\n",
            "\u001b[1m105/105\u001b[0m \u001b[32m━━━━━━━━━━━━━━━━━━━━\u001b[0m\u001b[37m\u001b[0m \u001b[1m56s\u001b[0m 200ms/step - accuracy: 0.8160 - loss: 0.5308 - val_accuracy: 0.6722 - val_loss: 0.8345 - learning_rate: 1.0000e-04\n",
            "Epoch 3/20\n",
            "\u001b[1m105/105\u001b[0m \u001b[32m━━━━━━━━━━━━━━━━━━━━\u001b[0m\u001b[37m\u001b[0m \u001b[1m21s\u001b[0m 200ms/step - accuracy: 0.8362 - loss: 0.4486 - val_accuracy: 0.8624 - val_loss: 0.5052 - learning_rate: 1.0000e-04\n",
            "Epoch 4/20\n",
            "\u001b[1m105/105\u001b[0m \u001b[32m━━━━━━━━━━━━━━━━━━━━\u001b[0m\u001b[37m\u001b[0m \u001b[1m22s\u001b[0m 211ms/step - accuracy: 0.8564 - loss: 0.4131 - val_accuracy: 0.8959 - val_loss: 0.3123 - learning_rate: 1.0000e-04\n",
            "Epoch 5/20\n",
            "\u001b[1m105/105\u001b[0m \u001b[32m━━━━━━━━━━━━━━━━━━━━\u001b[0m\u001b[37m\u001b[0m \u001b[1m22s\u001b[0m 211ms/step - accuracy: 0.8714 - loss: 0.3560 - val_accuracy: 0.9127 - val_loss: 0.2518 - learning_rate: 1.0000e-04\n",
            "Epoch 6/20\n",
            "\u001b[1m105/105\u001b[0m \u001b[32m━━━━━━━━━━━━━━━━━━━━\u001b[0m\u001b[37m\u001b[0m \u001b[1m21s\u001b[0m 202ms/step - accuracy: 0.8757 - loss: 0.3388 - val_accuracy: 0.9294 - val_loss: 0.2124 - learning_rate: 1.0000e-04\n",
            "Epoch 7/20\n",
            "\u001b[1m105/105\u001b[0m \u001b[32m━━━━━━━━━━━━━━━━━━━━\u001b[0m\u001b[37m\u001b[0m \u001b[1m22s\u001b[0m 205ms/step - accuracy: 0.8874 - loss: 0.3210 - val_accuracy: 0.9258 - val_loss: 0.2061 - learning_rate: 1.0000e-04\n",
            "Epoch 8/20\n",
            "\u001b[1m105/105\u001b[0m \u001b[32m━━━━━━━━━━━━━━━━━━━━\u001b[0m\u001b[37m\u001b[0m \u001b[1m22s\u001b[0m 214ms/step - accuracy: 0.8909 - loss: 0.3075 - val_accuracy: 0.9246 - val_loss: 0.1965 - learning_rate: 1.0000e-04\n",
            "Epoch 9/20\n",
            "\u001b[1m105/105\u001b[0m \u001b[32m━━━━━━━━━━━━━━━━━━━━\u001b[0m\u001b[37m\u001b[0m \u001b[1m22s\u001b[0m 209ms/step - accuracy: 0.8837 - loss: 0.3159 - val_accuracy: 0.9187 - val_loss: 0.2018 - learning_rate: 1.0000e-04\n",
            "Epoch 10/20\n",
            "\u001b[1m105/105\u001b[0m \u001b[32m━━━━━━━━━━━━━━━━━━━━\u001b[0m\u001b[37m\u001b[0m \u001b[1m22s\u001b[0m 212ms/step - accuracy: 0.9027 - loss: 0.2715 - val_accuracy: 0.9234 - val_loss: 0.2098 - learning_rate: 1.0000e-04\n",
            "Epoch 11/20\n",
            "\u001b[1m105/105\u001b[0m \u001b[32m━━━━━━━━━━━━━━━━━━━━\u001b[0m\u001b[37m\u001b[0m \u001b[1m41s\u001b[0m 208ms/step - accuracy: 0.9175 - loss: 0.2453 - val_accuracy: 0.9282 - val_loss: 0.1874 - learning_rate: 1.0000e-04\n",
            "Epoch 12/20\n",
            "\u001b[1m105/105\u001b[0m \u001b[32m━━━━━━━━━━━━━━━━━━━━\u001b[0m\u001b[37m\u001b[0m \u001b[1m23s\u001b[0m 216ms/step - accuracy: 0.8960 - loss: 0.2908 - val_accuracy: 0.9318 - val_loss: 0.1916 - learning_rate: 1.0000e-04\n",
            "Epoch 13/20\n",
            "\u001b[1m105/105\u001b[0m \u001b[32m━━━━━━━━━━━━━━━━━━━━\u001b[0m\u001b[37m\u001b[0m \u001b[1m22s\u001b[0m 208ms/step - accuracy: 0.9248 - loss: 0.2269 - val_accuracy: 0.9318 - val_loss: 0.1799 - learning_rate: 1.0000e-04\n",
            "Epoch 14/20\n",
            "\u001b[1m105/105\u001b[0m \u001b[32m━━━━━━━━━━━━━━━━━━━━\u001b[0m\u001b[37m\u001b[0m \u001b[1m22s\u001b[0m 207ms/step - accuracy: 0.9050 - loss: 0.2430 - val_accuracy: 0.9318 - val_loss: 0.1798 - learning_rate: 1.0000e-04\n",
            "Epoch 15/20\n",
            "\u001b[1m105/105\u001b[0m \u001b[32m━━━━━━━━━━━━━━━━━━━━\u001b[0m\u001b[37m\u001b[0m \u001b[1m22s\u001b[0m 207ms/step - accuracy: 0.9125 - loss: 0.2333 - val_accuracy: 0.9306 - val_loss: 0.1842 - learning_rate: 1.0000e-04\n",
            "Epoch 16/20\n",
            "\u001b[1m105/105\u001b[0m \u001b[32m━━━━━━━━━━━━━━━━━━━━\u001b[0m\u001b[37m\u001b[0m \u001b[1m23s\u001b[0m 216ms/step - accuracy: 0.9280 - loss: 0.2134 - val_accuracy: 0.9330 - val_loss: 0.1884 - learning_rate: 1.0000e-04\n",
            "Epoch 17/20\n",
            "\u001b[1m105/105\u001b[0m \u001b[32m━━━━━━━━━━━━━━━━━━━━\u001b[0m\u001b[37m\u001b[0m \u001b[1m22s\u001b[0m 208ms/step - accuracy: 0.9227 - loss: 0.2211 - val_accuracy: 0.9378 - val_loss: 0.1776 - learning_rate: 1.0000e-04\n",
            "Epoch 18/20\n",
            "\u001b[1m105/105\u001b[0m \u001b[32m━━━━━━━━━━━━━━━━━━━━\u001b[0m\u001b[37m\u001b[0m \u001b[1m22s\u001b[0m 206ms/step - accuracy: 0.9305 - loss: 0.1853 - val_accuracy: 0.9354 - val_loss: 0.1904 - learning_rate: 1.0000e-04\n",
            "Epoch 19/20\n",
            "\u001b[1m105/105\u001b[0m \u001b[32m━━━━━━━━━━━━━━━━━━━━\u001b[0m\u001b[37m\u001b[0m \u001b[1m42s\u001b[0m 215ms/step - accuracy: 0.9114 - loss: 0.2101 - val_accuracy: 0.9342 - val_loss: 0.1914 - learning_rate: 1.0000e-04\n",
            "Epoch 20/20\n",
            "\u001b[1m105/105\u001b[0m \u001b[32m━━━━━━━━━━━━━━━━━━━━\u001b[0m\u001b[37m\u001b[0m \u001b[1m0s\u001b[0m 171ms/step - accuracy: 0.9306 - loss: 0.1766\n",
            "Epoch 20: ReduceLROnPlateau reducing learning rate to 4.999999873689376e-05.\n",
            "\u001b[1m105/105\u001b[0m \u001b[32m━━━━━━━━━━━━━━━━━━━━\u001b[0m\u001b[37m\u001b[0m \u001b[1m23s\u001b[0m 215ms/step - accuracy: 0.9306 - loss: 0.1768 - val_accuracy: 0.9246 - val_loss: 0.1972 - learning_rate: 1.0000e-04\n",
            "Best Validation Accuracy: 0.9378\n",
            "Training DenseNet121...\n",
            "Epoch 1/20\n",
            "\u001b[1m105/105\u001b[0m \u001b[32m━━━━━━━━━━━━━━━━━━━━\u001b[0m\u001b[37m\u001b[0m \u001b[1m77s\u001b[0m 452ms/step - accuracy: 0.5692 - loss: 1.1694 - val_accuracy: 0.8589 - val_loss: 0.4235 - learning_rate: 1.0000e-04\n",
            "Epoch 2/20\n",
            "\u001b[1m105/105\u001b[0m \u001b[32m━━━━━━━━━━━━━━━━━━━━\u001b[0m\u001b[37m\u001b[0m \u001b[1m13s\u001b[0m 121ms/step - accuracy: 0.8291 - loss: 0.4759 - val_accuracy: 0.9031 - val_loss: 0.2635 - learning_rate: 1.0000e-04\n",
            "Epoch 3/20\n",
            "\u001b[1m105/105\u001b[0m \u001b[32m━━━━━━━━━━━━━━━━━━━━\u001b[0m\u001b[37m\u001b[0m \u001b[1m13s\u001b[0m 122ms/step - accuracy: 0.8874 - loss: 0.3301 - val_accuracy: 0.9199 - val_loss: 0.2073 - learning_rate: 1.0000e-04\n",
            "Epoch 4/20\n",
            "\u001b[1m105/105\u001b[0m \u001b[32m━━━━━━━━━━━━━━━━━━━━\u001b[0m\u001b[37m\u001b[0m \u001b[1m12s\u001b[0m 118ms/step - accuracy: 0.8866 - loss: 0.2880 - val_accuracy: 0.9187 - val_loss: 0.2075 - learning_rate: 1.0000e-04\n",
            "Epoch 5/20\n",
            "\u001b[1m105/105\u001b[0m \u001b[32m━━━━━━━━━━━━━━━━━━━━\u001b[0m\u001b[37m\u001b[0m \u001b[1m13s\u001b[0m 119ms/step - accuracy: 0.8998 - loss: 0.2562 - val_accuracy: 0.9378 - val_loss: 0.1869 - learning_rate: 1.0000e-04\n",
            "Epoch 6/20\n",
            "\u001b[1m105/105\u001b[0m \u001b[32m━━━━━━━━━━━━━━━━━━━━\u001b[0m\u001b[37m\u001b[0m \u001b[1m13s\u001b[0m 119ms/step - accuracy: 0.9158 - loss: 0.2122 - val_accuracy: 0.9306 - val_loss: 0.2018 - learning_rate: 1.0000e-04\n",
            "Epoch 7/20\n",
            "\u001b[1m105/105\u001b[0m \u001b[32m━━━━━━━━━━━━━━━━━━━━\u001b[0m\u001b[37m\u001b[0m \u001b[1m13s\u001b[0m 122ms/step - accuracy: 0.9302 - loss: 0.1850 - val_accuracy: 0.9318 - val_loss: 0.1906 - learning_rate: 1.0000e-04\n",
            "Epoch 8/20\n",
            "\u001b[1m105/105\u001b[0m \u001b[32m━━━━━━━━━━━━━━━━━━━━\u001b[0m\u001b[37m\u001b[0m \u001b[1m0s\u001b[0m 96ms/step - accuracy: 0.9380 - loss: 0.1596\n",
            "Epoch 8: ReduceLROnPlateau reducing learning rate to 4.999999873689376e-05.\n",
            "\u001b[1m105/105\u001b[0m \u001b[32m━━━━━━━━━━━━━━━━━━━━\u001b[0m\u001b[37m\u001b[0m \u001b[1m12s\u001b[0m 119ms/step - accuracy: 0.9380 - loss: 0.1598 - val_accuracy: 0.9366 - val_loss: 0.1960 - learning_rate: 1.0000e-04\n",
            "Epoch 9/20\n",
            "\u001b[1m105/105\u001b[0m \u001b[32m━━━━━━━━━━━━━━━━━━━━\u001b[0m\u001b[37m\u001b[0m \u001b[1m13s\u001b[0m 121ms/step - accuracy: 0.9399 - loss: 0.1571 - val_accuracy: 0.9390 - val_loss: 0.1940 - learning_rate: 5.0000e-05\n",
            "Epoch 10/20\n",
            "\u001b[1m105/105\u001b[0m \u001b[32m━━━━━━━━━━━━━━━━━━━━\u001b[0m\u001b[37m\u001b[0m \u001b[1m13s\u001b[0m 123ms/step - accuracy: 0.9464 - loss: 0.1527 - val_accuracy: 0.9354 - val_loss: 0.1933 - learning_rate: 5.0000e-05\n",
            "Epoch 11/20\n",
            "\u001b[1m105/105\u001b[0m \u001b[32m━━━━━━━━━━━━━━━━━━━━\u001b[0m\u001b[37m\u001b[0m \u001b[1m0s\u001b[0m 97ms/step - accuracy: 0.9492 - loss: 0.1570\n",
            "Epoch 11: ReduceLROnPlateau reducing learning rate to 2.499999936844688e-05.\n",
            "\u001b[1m105/105\u001b[0m \u001b[32m━━━━━━━━━━━━━━━━━━━━\u001b[0m\u001b[37m\u001b[0m \u001b[1m13s\u001b[0m 120ms/step - accuracy: 0.9492 - loss: 0.1570 - val_accuracy: 0.9366 - val_loss: 0.1908 - learning_rate: 5.0000e-05\n",
            "Epoch 12/20\n",
            "\u001b[1m105/105\u001b[0m \u001b[32m━━━━━━━━━━━━━━━━━━━━\u001b[0m\u001b[37m\u001b[0m \u001b[1m13s\u001b[0m 120ms/step - accuracy: 0.9545 - loss: 0.1155 - val_accuracy: 0.9378 - val_loss: 0.1891 - learning_rate: 2.5000e-05\n",
            "Epoch 13/20\n",
            "\u001b[1m105/105\u001b[0m \u001b[32m━━━━━━━━━━━━━━━━━━━━\u001b[0m\u001b[37m\u001b[0m \u001b[1m13s\u001b[0m 121ms/step - accuracy: 0.9566 - loss: 0.1255 - val_accuracy: 0.9390 - val_loss: 0.1916 - learning_rate: 2.5000e-05\n",
            "Epoch 14/20\n",
            "\u001b[1m105/105\u001b[0m \u001b[32m━━━━━━━━━━━━━━━━━━━━\u001b[0m\u001b[37m\u001b[0m \u001b[1m0s\u001b[0m 97ms/step - accuracy: 0.9476 - loss: 0.1327\n",
            "Epoch 14: ReduceLROnPlateau reducing learning rate to 1.249999968422344e-05.\n",
            "\u001b[1m105/105\u001b[0m \u001b[32m━━━━━━━━━━━━━━━━━━━━\u001b[0m\u001b[37m\u001b[0m \u001b[1m13s\u001b[0m 119ms/step - accuracy: 0.9477 - loss: 0.1326 - val_accuracy: 0.9414 - val_loss: 0.1900 - learning_rate: 2.5000e-05\n",
            "Epoch 15/20\n",
            "\u001b[1m105/105\u001b[0m \u001b[32m━━━━━━━━━━━━━━━━━━━━\u001b[0m\u001b[37m\u001b[0m \u001b[1m13s\u001b[0m 120ms/step - accuracy: 0.9476 - loss: 0.1342 - val_accuracy: 0.9390 - val_loss: 0.1924 - learning_rate: 1.2500e-05\n",
            "Epoch 16/20\n",
            "\u001b[1m105/105\u001b[0m \u001b[32m━━━━━━━━━━━━━━━━━━━━\u001b[0m\u001b[37m\u001b[0m \u001b[1m13s\u001b[0m 120ms/step - accuracy: 0.9530 - loss: 0.1220 - val_accuracy: 0.9402 - val_loss: 0.1936 - learning_rate: 1.2500e-05\n",
            "Epoch 17/20\n",
            "\u001b[1m105/105\u001b[0m \u001b[32m━━━━━━━━━━━━━━━━━━━━\u001b[0m\u001b[37m\u001b[0m \u001b[1m0s\u001b[0m 98ms/step - accuracy: 0.9531 - loss: 0.1266\n",
            "Epoch 17: ReduceLROnPlateau reducing learning rate to 6.24999984211172e-06.\n",
            "\u001b[1m105/105\u001b[0m \u001b[32m━━━━━━━━━━━━━━━━━━━━\u001b[0m\u001b[37m\u001b[0m \u001b[1m13s\u001b[0m 121ms/step - accuracy: 0.9531 - loss: 0.1266 - val_accuracy: 0.9402 - val_loss: 0.1901 - learning_rate: 1.2500e-05\n",
            "Epoch 18/20\n",
            "\u001b[1m105/105\u001b[0m \u001b[32m━━━━━━━━━━━━━━━━━━━━\u001b[0m\u001b[37m\u001b[0m \u001b[1m13s\u001b[0m 122ms/step - accuracy: 0.9508 - loss: 0.1258 - val_accuracy: 0.9390 - val_loss: 0.1889 - learning_rate: 6.2500e-06\n",
            "Epoch 19/20\n",
            "\u001b[1m105/105\u001b[0m \u001b[32m━━━━━━━━━━━━━━━━━━━━\u001b[0m\u001b[37m\u001b[0m \u001b[1m13s\u001b[0m 123ms/step - accuracy: 0.9485 - loss: 0.1354 - val_accuracy: 0.9390 - val_loss: 0.1872 - learning_rate: 6.2500e-06\n",
            "Epoch 20/20\n",
            "\u001b[1m105/105\u001b[0m \u001b[32m━━━━━━━━━━━━━━━━━━━━\u001b[0m\u001b[37m\u001b[0m \u001b[1m13s\u001b[0m 121ms/step - accuracy: 0.9484 - loss: 0.1275 - val_accuracy: 0.9390 - val_loss: 0.1852 - learning_rate: 6.2500e-06\n",
            "Best Validation Accuracy: 0.9414\n",
            "Training MobileNetV2...\n",
            "Epoch 1/20\n",
            "\u001b[1m105/105\u001b[0m \u001b[32m━━━━━━━━━━━━━━━━━━━━\u001b[0m\u001b[37m\u001b[0m \u001b[1m35s\u001b[0m 217ms/step - accuracy: 0.5892 - loss: 1.0887 - val_accuracy: 0.8876 - val_loss: 0.3078 - learning_rate: 1.0000e-04\n",
            "Epoch 2/20\n",
            "\u001b[1m105/105\u001b[0m \u001b[32m━━━━━━━━━━━━━━━━━━━━\u001b[0m\u001b[37m\u001b[0m \u001b[1m11s\u001b[0m 105ms/step - accuracy: 0.8672 - loss: 0.3756 - val_accuracy: 0.8995 - val_loss: 0.2396 - learning_rate: 1.0000e-04\n",
            "Epoch 3/20\n",
            "\u001b[1m105/105\u001b[0m \u001b[32m━━━━━━━━━━━━━━━━━━━━\u001b[0m\u001b[37m\u001b[0m \u001b[1m12s\u001b[0m 113ms/step - accuracy: 0.9005 - loss: 0.2830 - val_accuracy: 0.9019 - val_loss: 0.2339 - learning_rate: 1.0000e-04\n",
            "Epoch 4/20\n",
            "\u001b[1m105/105\u001b[0m \u001b[32m━━━━━━━━━━━━━━━━━━━━\u001b[0m\u001b[37m\u001b[0m \u001b[1m12s\u001b[0m 111ms/step - accuracy: 0.9060 - loss: 0.2448 - val_accuracy: 0.9115 - val_loss: 0.2156 - learning_rate: 1.0000e-04\n",
            "Epoch 5/20\n",
            "\u001b[1m105/105\u001b[0m \u001b[32m━━━━━━━━━━━━━━━━━━━━\u001b[0m\u001b[37m\u001b[0m \u001b[1m11s\u001b[0m 109ms/step - accuracy: 0.9183 - loss: 0.2124 - val_accuracy: 0.9163 - val_loss: 0.2290 - learning_rate: 1.0000e-04\n",
            "Epoch 6/20\n",
            "\u001b[1m105/105\u001b[0m \u001b[32m━━━━━━━━━━━━━━━━━━━━\u001b[0m\u001b[37m\u001b[0m \u001b[1m11s\u001b[0m 104ms/step - accuracy: 0.9264 - loss: 0.1960 - val_accuracy: 0.9115 - val_loss: 0.2132 - learning_rate: 1.0000e-04\n",
            "Epoch 7/20\n",
            "\u001b[1m105/105\u001b[0m \u001b[32m━━━━━━━━━━━━━━━━━━━━\u001b[0m\u001b[37m\u001b[0m \u001b[1m11s\u001b[0m 109ms/step - accuracy: 0.9469 - loss: 0.1427 - val_accuracy: 0.9139 - val_loss: 0.2157 - learning_rate: 1.0000e-04\n",
            "Epoch 8/20\n",
            "\u001b[1m105/105\u001b[0m \u001b[32m━━━━━━━━━━━━━━━━━━━━\u001b[0m\u001b[37m\u001b[0m \u001b[1m11s\u001b[0m 105ms/step - accuracy: 0.9473 - loss: 0.1510 - val_accuracy: 0.9163 - val_loss: 0.2196 - learning_rate: 1.0000e-04\n",
            "Epoch 9/20\n",
            "\u001b[1m105/105\u001b[0m \u001b[32m━━━━━━━━━━━━━━━━━━━━\u001b[0m\u001b[37m\u001b[0m \u001b[1m0s\u001b[0m 82ms/step - accuracy: 0.9474 - loss: 0.1417\n",
            "Epoch 9: ReduceLROnPlateau reducing learning rate to 4.999999873689376e-05.\n",
            "\u001b[1m105/105\u001b[0m \u001b[32m━━━━━━━━━━━━━━━━━━━━\u001b[0m\u001b[37m\u001b[0m \u001b[1m11s\u001b[0m 106ms/step - accuracy: 0.9474 - loss: 0.1417 - val_accuracy: 0.9127 - val_loss: 0.2255 - learning_rate: 1.0000e-04\n",
            "Epoch 10/20\n",
            "\u001b[1m105/105\u001b[0m \u001b[32m━━━━━━━━━━━━━━━━━━━━\u001b[0m\u001b[37m\u001b[0m \u001b[1m11s\u001b[0m 101ms/step - accuracy: 0.9575 - loss: 0.1219 - val_accuracy: 0.9211 - val_loss: 0.2190 - learning_rate: 5.0000e-05\n",
            "Epoch 11/20\n",
            "\u001b[1m105/105\u001b[0m \u001b[32m━━━━━━━━━━━━━━━━━━━━\u001b[0m\u001b[37m\u001b[0m \u001b[1m11s\u001b[0m 105ms/step - accuracy: 0.9610 - loss: 0.1033 - val_accuracy: 0.9199 - val_loss: 0.2195 - learning_rate: 5.0000e-05\n",
            "Epoch 12/20\n",
            "\u001b[1m105/105\u001b[0m \u001b[32m━━━━━━━━━━━━━━━━━━━━\u001b[0m\u001b[37m\u001b[0m \u001b[1m0s\u001b[0m 88ms/step - accuracy: 0.9701 - loss: 0.0859\n",
            "Epoch 12: ReduceLROnPlateau reducing learning rate to 2.499999936844688e-05.\n",
            "\u001b[1m105/105\u001b[0m \u001b[32m━━━━━━━━━━━━━━━━━━━━\u001b[0m\u001b[37m\u001b[0m \u001b[1m11s\u001b[0m 107ms/step - accuracy: 0.9700 - loss: 0.0860 - val_accuracy: 0.9211 - val_loss: 0.2268 - learning_rate: 5.0000e-05\n",
            "Epoch 13/20\n",
            "\u001b[1m105/105\u001b[0m \u001b[32m━━━━━━━━━━━━━━━━━━━━\u001b[0m\u001b[37m\u001b[0m \u001b[1m11s\u001b[0m 108ms/step - accuracy: 0.9660 - loss: 0.0933 - val_accuracy: 0.9211 - val_loss: 0.2261 - learning_rate: 2.5000e-05\n",
            "Epoch 14/20\n",
            "\u001b[1m105/105\u001b[0m \u001b[32m━━━━━━━━━━━━━━━━━━━━\u001b[0m\u001b[37m\u001b[0m \u001b[1m11s\u001b[0m 104ms/step - accuracy: 0.9668 - loss: 0.0883 - val_accuracy: 0.9222 - val_loss: 0.2213 - learning_rate: 2.5000e-05\n",
            "Epoch 15/20\n",
            "\u001b[1m105/105\u001b[0m \u001b[32m━━━━━━━━━━━━━━━━━━━━\u001b[0m\u001b[37m\u001b[0m \u001b[1m0s\u001b[0m 88ms/step - accuracy: 0.9642 - loss: 0.0979\n",
            "Epoch 15: ReduceLROnPlateau reducing learning rate to 1.249999968422344e-05.\n",
            "\u001b[1m105/105\u001b[0m \u001b[32m━━━━━━━━━━━━━━━━━━━━\u001b[0m\u001b[37m\u001b[0m \u001b[1m11s\u001b[0m 107ms/step - accuracy: 0.9642 - loss: 0.0979 - val_accuracy: 0.9222 - val_loss: 0.2196 - learning_rate: 2.5000e-05\n",
            "Epoch 16/20\n",
            "\u001b[1m105/105\u001b[0m \u001b[32m━━━━━━━━━━━━━━━━━━━━\u001b[0m\u001b[37m\u001b[0m \u001b[1m11s\u001b[0m 106ms/step - accuracy: 0.9709 - loss: 0.0964 - val_accuracy: 0.9222 - val_loss: 0.2213 - learning_rate: 1.2500e-05\n",
            "Epoch 17/20\n",
            "\u001b[1m105/105\u001b[0m \u001b[32m━━━━━━━━━━━━━━━━━━━━\u001b[0m\u001b[37m\u001b[0m \u001b[1m11s\u001b[0m 104ms/step - accuracy: 0.9634 - loss: 0.0932 - val_accuracy: 0.9234 - val_loss: 0.2239 - learning_rate: 1.2500e-05\n",
            "Epoch 18/20\n",
            "\u001b[1m104/105\u001b[0m \u001b[32m━━━━━━━━━━━━━━━━━━━\u001b[0m\u001b[37m━\u001b[0m \u001b[1m0s\u001b[0m 79ms/step - accuracy: 0.9711 - loss: 0.0787\n",
            "Epoch 18: ReduceLROnPlateau reducing learning rate to 6.24999984211172e-06.\n",
            "\u001b[1m105/105\u001b[0m \u001b[32m━━━━━━━━━━━━━━━━━━━━\u001b[0m\u001b[37m\u001b[0m \u001b[1m11s\u001b[0m 103ms/step - accuracy: 0.9711 - loss: 0.0789 - val_accuracy: 0.9211 - val_loss: 0.2203 - learning_rate: 1.2500e-05\n",
            "Epoch 19/20\n",
            "\u001b[1m105/105\u001b[0m \u001b[32m━━━━━━━━━━━━━━━━━━━━\u001b[0m\u001b[37m\u001b[0m \u001b[1m21s\u001b[0m 106ms/step - accuracy: 0.9643 - loss: 0.0857 - val_accuracy: 0.9211 - val_loss: 0.2221 - learning_rate: 6.2500e-06\n",
            "Epoch 20/20\n",
            "\u001b[1m105/105\u001b[0m \u001b[32m━━━━━━━━━━━━━━━━━━━━\u001b[0m\u001b[37m\u001b[0m \u001b[1m12s\u001b[0m 112ms/step - accuracy: 0.9694 - loss: 0.0798 - val_accuracy: 0.9222 - val_loss: 0.2238 - learning_rate: 6.2500e-06\n",
            "Best Validation Accuracy: 0.9234\n",
            "Training InceptionV3...\n",
            "Epoch 1/20\n",
            "\u001b[1m105/105\u001b[0m \u001b[32m━━━━━━━━━━━━━━━━━━━━\u001b[0m\u001b[37m\u001b[0m \u001b[1m51s\u001b[0m 307ms/step - accuracy: 0.5658 - loss: 1.1791 - val_accuracy: 0.8732 - val_loss: 0.3723 - learning_rate: 1.0000e-04\n",
            "Epoch 2/20\n",
            "\u001b[1m105/105\u001b[0m \u001b[32m━━━━━━━━━━━━━━━━━━━━\u001b[0m\u001b[37m\u001b[0m \u001b[1m12s\u001b[0m 116ms/step - accuracy: 0.8341 - loss: 0.4377 - val_accuracy: 0.8923 - val_loss: 0.2962 - learning_rate: 1.0000e-04\n",
            "Epoch 3/20\n",
            "\u001b[1m105/105\u001b[0m \u001b[32m━━━━━━━━━━━━━━━━━━━━\u001b[0m\u001b[37m\u001b[0m \u001b[1m12s\u001b[0m 113ms/step - accuracy: 0.8630 - loss: 0.3720 - val_accuracy: 0.8911 - val_loss: 0.2754 - learning_rate: 1.0000e-04\n",
            "Epoch 4/20\n",
            "\u001b[1m105/105\u001b[0m \u001b[32m━━━━━━━━━━━━━━━━━━━━\u001b[0m\u001b[37m\u001b[0m \u001b[1m12s\u001b[0m 116ms/step - accuracy: 0.8895 - loss: 0.2923 - val_accuracy: 0.9007 - val_loss: 0.2683 - learning_rate: 1.0000e-04\n",
            "Epoch 5/20\n",
            "\u001b[1m105/105\u001b[0m \u001b[32m━━━━━━━━━━━━━━━━━━━━\u001b[0m\u001b[37m\u001b[0m \u001b[1m12s\u001b[0m 116ms/step - accuracy: 0.8914 - loss: 0.2709 - val_accuracy: 0.9067 - val_loss: 0.2479 - learning_rate: 1.0000e-04\n",
            "Epoch 6/20\n",
            "\u001b[1m105/105\u001b[0m \u001b[32m━━━━━━━━━━━━━━━━━━━━\u001b[0m\u001b[37m\u001b[0m \u001b[1m12s\u001b[0m 114ms/step - accuracy: 0.9232 - loss: 0.2182 - val_accuracy: 0.9067 - val_loss: 0.2511 - learning_rate: 1.0000e-04\n",
            "Epoch 7/20\n",
            "\u001b[1m105/105\u001b[0m \u001b[32m━━━━━━━━━━━━━━━━━━━━\u001b[0m\u001b[37m\u001b[0m \u001b[1m12s\u001b[0m 116ms/step - accuracy: 0.9277 - loss: 0.1910 - val_accuracy: 0.9019 - val_loss: 0.2510 - learning_rate: 1.0000e-04\n",
            "Epoch 8/20\n",
            "\u001b[1m105/105\u001b[0m \u001b[32m━━━━━━━━━━━━━━━━━━━━\u001b[0m\u001b[37m\u001b[0m \u001b[1m12s\u001b[0m 116ms/step - accuracy: 0.9392 - loss: 0.1677 - val_accuracy: 0.9091 - val_loss: 0.2413 - learning_rate: 1.0000e-04\n",
            "Epoch 9/20\n",
            "\u001b[1m105/105\u001b[0m \u001b[32m━━━━━━━━━━━━━━━━━━━━\u001b[0m\u001b[37m\u001b[0m \u001b[1m12s\u001b[0m 116ms/step - accuracy: 0.9453 - loss: 0.1527 - val_accuracy: 0.8995 - val_loss: 0.2492 - learning_rate: 1.0000e-04\n",
            "Epoch 10/20\n",
            "\u001b[1m105/105\u001b[0m \u001b[32m━━━━━━━━━━━━━━━━━━━━\u001b[0m\u001b[37m\u001b[0m \u001b[1m12s\u001b[0m 116ms/step - accuracy: 0.9469 - loss: 0.1504 - val_accuracy: 0.9067 - val_loss: 0.2491 - learning_rate: 1.0000e-04\n",
            "Epoch 11/20\n",
            "\u001b[1m105/105\u001b[0m \u001b[32m━━━━━━━━━━━━━━━━━━━━\u001b[0m\u001b[37m\u001b[0m \u001b[1m12s\u001b[0m 118ms/step - accuracy: 0.9454 - loss: 0.1414 - val_accuracy: 0.9079 - val_loss: 0.2379 - learning_rate: 1.0000e-04\n",
            "Epoch 12/20\n",
            "\u001b[1m105/105\u001b[0m \u001b[32m━━━━━━━━━━━━━━━━━━━━\u001b[0m\u001b[37m\u001b[0m \u001b[1m12s\u001b[0m 118ms/step - accuracy: 0.9636 - loss: 0.1143 - val_accuracy: 0.9151 - val_loss: 0.2398 - learning_rate: 1.0000e-04\n",
            "Epoch 13/20\n",
            "\u001b[1m105/105\u001b[0m \u001b[32m━━━━━━━━━━━━━━━━━━━━\u001b[0m\u001b[37m\u001b[0m \u001b[1m12s\u001b[0m 118ms/step - accuracy: 0.9630 - loss: 0.1048 - val_accuracy: 0.9043 - val_loss: 0.2572 - learning_rate: 1.0000e-04\n",
            "Epoch 14/20\n",
            "\u001b[1m105/105\u001b[0m \u001b[32m━━━━━━━━━━━━━━━━━━━━\u001b[0m\u001b[37m\u001b[0m \u001b[1m0s\u001b[0m 93ms/step - accuracy: 0.9652 - loss: 0.1035\n",
            "Epoch 14: ReduceLROnPlateau reducing learning rate to 4.999999873689376e-05.\n",
            "\u001b[1m105/105\u001b[0m \u001b[32m━━━━━━━━━━━━━━━━━━━━\u001b[0m\u001b[37m\u001b[0m \u001b[1m12s\u001b[0m 115ms/step - accuracy: 0.9652 - loss: 0.1034 - val_accuracy: 0.9079 - val_loss: 0.2436 - learning_rate: 1.0000e-04\n",
            "Epoch 15/20\n",
            "\u001b[1m105/105\u001b[0m \u001b[32m━━━━━━━━━━━━━━━━━━━━\u001b[0m\u001b[37m\u001b[0m \u001b[1m12s\u001b[0m 117ms/step - accuracy: 0.9750 - loss: 0.0779 - val_accuracy: 0.9067 - val_loss: 0.2651 - learning_rate: 5.0000e-05\n",
            "Epoch 16/20\n",
            "\u001b[1m105/105\u001b[0m \u001b[32m━━━━━━━━━━━━━━━━━━━━\u001b[0m\u001b[37m\u001b[0m \u001b[1m12s\u001b[0m 116ms/step - accuracy: 0.9675 - loss: 0.1050 - val_accuracy: 0.9007 - val_loss: 0.2549 - learning_rate: 5.0000e-05\n",
            "Epoch 17/20\n",
            "\u001b[1m105/105\u001b[0m \u001b[32m━━━━━━━━━━━━━━━━━━━━\u001b[0m\u001b[37m\u001b[0m \u001b[1m0s\u001b[0m 95ms/step - accuracy: 0.9693 - loss: 0.0873\n",
            "Epoch 17: ReduceLROnPlateau reducing learning rate to 2.499999936844688e-05.\n",
            "\u001b[1m105/105\u001b[0m \u001b[32m━━━━━━━━━━━━━━━━━━━━\u001b[0m\u001b[37m\u001b[0m \u001b[1m12s\u001b[0m 117ms/step - accuracy: 0.9693 - loss: 0.0873 - val_accuracy: 0.9055 - val_loss: 0.2458 - learning_rate: 5.0000e-05\n",
            "Epoch 18/20\n",
            "\u001b[1m105/105\u001b[0m \u001b[32m━━━━━━━━━━━━━━━━━━━━\u001b[0m\u001b[37m\u001b[0m \u001b[1m12s\u001b[0m 116ms/step - accuracy: 0.9763 - loss: 0.0701 - val_accuracy: 0.9127 - val_loss: 0.2480 - learning_rate: 2.5000e-05\n",
            "Epoch 19/20\n",
            "\u001b[1m105/105\u001b[0m \u001b[32m━━━━━━━━━━━━━━━━━━━━\u001b[0m\u001b[37m\u001b[0m \u001b[1m13s\u001b[0m 122ms/step - accuracy: 0.9815 - loss: 0.0636 - val_accuracy: 0.9055 - val_loss: 0.2464 - learning_rate: 2.5000e-05\n",
            "Epoch 20/20\n",
            "\u001b[1m105/105\u001b[0m \u001b[32m━━━━━━━━━━━━━━━━━━━━\u001b[0m\u001b[37m\u001b[0m \u001b[1m0s\u001b[0m 96ms/step - accuracy: 0.9767 - loss: 0.0672\n",
            "Epoch 20: ReduceLROnPlateau reducing learning rate to 1.249999968422344e-05.\n",
            "\u001b[1m105/105\u001b[0m \u001b[32m━━━━━━━━━━━━━━━━━━━━\u001b[0m\u001b[37m\u001b[0m \u001b[1m20s\u001b[0m 118ms/step - accuracy: 0.9767 - loss: 0.0672 - val_accuracy: 0.9055 - val_loss: 0.2424 - learning_rate: 2.5000e-05\n",
            "Best Validation Accuracy: 0.9151\n",
            "Training Xception...\n",
            "Epoch 1/20\n",
            "\u001b[1m105/105\u001b[0m \u001b[32m━━━━━━━━━━━━━━━━━━━━\u001b[0m\u001b[37m\u001b[0m \u001b[1m47s\u001b[0m 299ms/step - accuracy: 0.5974 - loss: 1.0622 - val_accuracy: 0.8971 - val_loss: 0.4913 - learning_rate: 1.0000e-04\n",
            "Epoch 2/20\n",
            "\u001b[1m105/105\u001b[0m \u001b[32m━━━━━━━━━━━━━━━━━━━━\u001b[0m\u001b[37m\u001b[0m \u001b[1m17s\u001b[0m 160ms/step - accuracy: 0.8435 - loss: 0.4263 - val_accuracy: 0.9031 - val_loss: 0.2949 - learning_rate: 1.0000e-04\n",
            "Epoch 3/20\n",
            "\u001b[1m105/105\u001b[0m \u001b[32m━━━━━━━━━━━━━━━━━━━━\u001b[0m\u001b[37m\u001b[0m \u001b[1m18s\u001b[0m 176ms/step - accuracy: 0.8739 - loss: 0.3253 - val_accuracy: 0.9031 - val_loss: 0.2402 - learning_rate: 1.0000e-04\n",
            "Epoch 4/20\n",
            "\u001b[1m105/105\u001b[0m \u001b[32m━━━━━━━━━━━━━━━━━━━━\u001b[0m\u001b[37m\u001b[0m \u001b[1m17s\u001b[0m 162ms/step - accuracy: 0.8972 - loss: 0.2551 - val_accuracy: 0.9043 - val_loss: 0.2459 - learning_rate: 1.0000e-04\n",
            "Epoch 5/20\n",
            "\u001b[1m105/105\u001b[0m \u001b[32m━━━━━━━━━━━━━━━━━━━━\u001b[0m\u001b[37m\u001b[0m \u001b[1m17s\u001b[0m 166ms/step - accuracy: 0.9111 - loss: 0.2136 - val_accuracy: 0.9151 - val_loss: 0.2280 - learning_rate: 1.0000e-04\n",
            "Epoch 6/20\n",
            "\u001b[1m105/105\u001b[0m \u001b[32m━━━━━━━━━━━━━━━━━━━━\u001b[0m\u001b[37m\u001b[0m \u001b[1m17s\u001b[0m 161ms/step - accuracy: 0.9378 - loss: 0.1762 - val_accuracy: 0.9091 - val_loss: 0.2320 - learning_rate: 1.0000e-04\n",
            "Epoch 7/20\n",
            "\u001b[1m105/105\u001b[0m \u001b[32m━━━━━━━━━━━━━━━━━━━━\u001b[0m\u001b[37m\u001b[0m \u001b[1m17s\u001b[0m 164ms/step - accuracy: 0.9460 - loss: 0.1598 - val_accuracy: 0.9055 - val_loss: 0.2268 - learning_rate: 1.0000e-04\n",
            "Epoch 8/20\n",
            "\u001b[1m105/105\u001b[0m \u001b[32m━━━━━━━━━━━━━━━━━━━━\u001b[0m\u001b[37m\u001b[0m \u001b[1m17s\u001b[0m 161ms/step - accuracy: 0.9426 - loss: 0.1508 - val_accuracy: 0.9055 - val_loss: 0.2237 - learning_rate: 1.0000e-04\n",
            "Epoch 9/20\n",
            "\u001b[1m105/105\u001b[0m \u001b[32m━━━━━━━━━━━━━━━━━━━━\u001b[0m\u001b[37m\u001b[0m \u001b[1m17s\u001b[0m 161ms/step - accuracy: 0.9541 - loss: 0.1268 - val_accuracy: 0.9067 - val_loss: 0.2333 - learning_rate: 1.0000e-04\n",
            "Epoch 10/20\n",
            "\u001b[1m105/105\u001b[0m \u001b[32m━━━━━━━━━━━━━━━━━━━━\u001b[0m\u001b[37m\u001b[0m \u001b[1m18s\u001b[0m 168ms/step - accuracy: 0.9533 - loss: 0.1211 - val_accuracy: 0.9067 - val_loss: 0.2422 - learning_rate: 1.0000e-04\n",
            "Epoch 11/20\n",
            "\u001b[1m105/105\u001b[0m \u001b[32m━━━━━━━━━━━━━━━━━━━━\u001b[0m\u001b[37m\u001b[0m \u001b[1m0s\u001b[0m 131ms/step - accuracy: 0.9631 - loss: 0.1045\n",
            "Epoch 11: ReduceLROnPlateau reducing learning rate to 4.999999873689376e-05.\n",
            "\u001b[1m105/105\u001b[0m \u001b[32m━━━━━━━━━━━━━━━━━━━━\u001b[0m\u001b[37m\u001b[0m \u001b[1m17s\u001b[0m 164ms/step - accuracy: 0.9631 - loss: 0.1045 - val_accuracy: 0.9175 - val_loss: 0.2268 - learning_rate: 1.0000e-04\n",
            "Epoch 12/20\n",
            "\u001b[1m105/105\u001b[0m \u001b[32m━━━━━━━━━━━━━━━━━━━━\u001b[0m\u001b[37m\u001b[0m \u001b[1m19s\u001b[0m 181ms/step - accuracy: 0.9653 - loss: 0.0888 - val_accuracy: 0.9115 - val_loss: 0.2190 - learning_rate: 5.0000e-05\n",
            "Epoch 13/20\n",
            "\u001b[1m105/105\u001b[0m \u001b[32m━━━━━━━━━━━━━━━━━━━━\u001b[0m\u001b[37m\u001b[0m \u001b[1m17s\u001b[0m 163ms/step - accuracy: 0.9683 - loss: 0.0834 - val_accuracy: 0.9079 - val_loss: 0.2371 - learning_rate: 5.0000e-05\n",
            "Epoch 14/20\n",
            "\u001b[1m105/105\u001b[0m \u001b[32m━━━━━━━━━━━━━━━━━━━━\u001b[0m\u001b[37m\u001b[0m \u001b[1m19s\u001b[0m 176ms/step - accuracy: 0.9742 - loss: 0.0767 - val_accuracy: 0.9043 - val_loss: 0.2427 - learning_rate: 5.0000e-05\n",
            "Epoch 15/20\n",
            "\u001b[1m105/105\u001b[0m \u001b[32m━━━━━━━━━━━━━━━━━━━━\u001b[0m\u001b[37m\u001b[0m \u001b[1m0s\u001b[0m 126ms/step - accuracy: 0.9748 - loss: 0.0743\n",
            "Epoch 15: ReduceLROnPlateau reducing learning rate to 2.499999936844688e-05.\n",
            "\u001b[1m105/105\u001b[0m \u001b[32m━━━━━━━━━━━━━━━━━━━━\u001b[0m\u001b[37m\u001b[0m \u001b[1m17s\u001b[0m 157ms/step - accuracy: 0.9748 - loss: 0.0743 - val_accuracy: 0.9019 - val_loss: 0.2458 - learning_rate: 5.0000e-05\n",
            "Epoch 16/20\n",
            "\u001b[1m105/105\u001b[0m \u001b[32m━━━━━━━━━━━━━━━━━━━━\u001b[0m\u001b[37m\u001b[0m \u001b[1m17s\u001b[0m 164ms/step - accuracy: 0.9719 - loss: 0.0731 - val_accuracy: 0.9103 - val_loss: 0.2434 - learning_rate: 2.5000e-05\n",
            "Epoch 17/20\n",
            "\u001b[1m105/105\u001b[0m \u001b[32m━━━━━━━━━━━━━━━━━━━━\u001b[0m\u001b[37m\u001b[0m \u001b[1m17s\u001b[0m 161ms/step - accuracy: 0.9787 - loss: 0.0599 - val_accuracy: 0.9139 - val_loss: 0.2465 - learning_rate: 2.5000e-05\n",
            "Epoch 18/20\n",
            "\u001b[1m105/105\u001b[0m \u001b[32m━━━━━━━━━━━━━━━━━━━━\u001b[0m\u001b[37m\u001b[0m \u001b[1m0s\u001b[0m 130ms/step - accuracy: 0.9784 - loss: 0.0701\n",
            "Epoch 18: ReduceLROnPlateau reducing learning rate to 1.249999968422344e-05.\n",
            "\u001b[1m105/105\u001b[0m \u001b[32m━━━━━━━━━━━━━━━━━━━━\u001b[0m\u001b[37m\u001b[0m \u001b[1m17s\u001b[0m 163ms/step - accuracy: 0.9785 - loss: 0.0700 - val_accuracy: 0.9127 - val_loss: 0.2477 - learning_rate: 2.5000e-05\n",
            "Epoch 19/20\n",
            "\u001b[1m105/105\u001b[0m \u001b[32m━━━━━━━━━━━━━━━━━━━━\u001b[0m\u001b[37m\u001b[0m \u001b[1m19s\u001b[0m 179ms/step - accuracy: 0.9802 - loss: 0.0588 - val_accuracy: 0.9151 - val_loss: 0.2466 - learning_rate: 1.2500e-05\n",
            "Epoch 20/20\n",
            "\u001b[1m105/105\u001b[0m \u001b[32m━━━━━━━━━━━━━━━━━━━━\u001b[0m\u001b[37m\u001b[0m \u001b[1m17s\u001b[0m 161ms/step - accuracy: 0.9853 - loss: 0.0507 - val_accuracy: 0.9139 - val_loss: 0.2488 - learning_rate: 1.2500e-05\n",
            "Best Validation Accuracy: 0.9175\n"
          ]
        }
      ]
    },
    {
      "cell_type": "code",
      "source": [
        "print('Training Custom CNN...')\n",
        "histories['Custom_CNN'] = train_model(custom_cnn_model, train_generator, val_generator)"
      ],
      "metadata": {
        "colab": {
          "base_uri": "https://localhost:8080/"
        },
        "id": "qWwItNSdHnVI",
        "outputId": "373b96f2-a761-4a0c-f0f5-20ba0f7cc092"
      },
      "execution_count": null,
      "outputs": [
        {
          "output_type": "stream",
          "name": "stdout",
          "text": [
            "Training Custom CNN...\n",
            "Epoch 1/20\n",
            "\u001b[1m105/105\u001b[0m \u001b[32m━━━━━━━━━━━━━━━━━━━━\u001b[0m\u001b[37m\u001b[0m \u001b[1m26s\u001b[0m 160ms/step - accuracy: 0.7492 - loss: 0.7801 - val_accuracy: 0.3553 - val_loss: 3.1189 - learning_rate: 1.0000e-04\n",
            "Epoch 2/20\n",
            "\u001b[1m105/105\u001b[0m \u001b[32m━━━━━━━━━━━━━━━━━━━━\u001b[0m\u001b[37m\u001b[0m \u001b[1m17s\u001b[0m 157ms/step - accuracy: 0.8252 - loss: 0.4868 - val_accuracy: 0.5024 - val_loss: 3.0002 - learning_rate: 1.0000e-04\n",
            "Epoch 3/20\n",
            "\u001b[1m105/105\u001b[0m \u001b[32m━━━━━━━━━━━━━━━━━━━━\u001b[0m\u001b[37m\u001b[0m \u001b[1m17s\u001b[0m 158ms/step - accuracy: 0.8502 - loss: 0.3852 - val_accuracy: 0.5646 - val_loss: 1.1991 - learning_rate: 1.0000e-04\n",
            "Epoch 4/20\n",
            "\u001b[1m105/105\u001b[0m \u001b[32m━━━━━━━━━━━━━━━━━━━━\u001b[0m\u001b[37m\u001b[0m \u001b[1m16s\u001b[0m 150ms/step - accuracy: 0.8672 - loss: 0.3617 - val_accuracy: 0.8086 - val_loss: 0.5723 - learning_rate: 1.0000e-04\n",
            "Epoch 5/20\n",
            "\u001b[1m105/105\u001b[0m \u001b[32m━━━━━━━━━━━━━━━━━━━━\u001b[0m\u001b[37m\u001b[0m \u001b[1m16s\u001b[0m 153ms/step - accuracy: 0.8821 - loss: 0.3383 - val_accuracy: 0.8780 - val_loss: 0.3115 - learning_rate: 1.0000e-04\n",
            "Epoch 6/20\n",
            "\u001b[1m105/105\u001b[0m \u001b[32m━━━━━━━━━━━━━━━━━━━━\u001b[0m\u001b[37m\u001b[0m \u001b[1m16s\u001b[0m 154ms/step - accuracy: 0.8834 - loss: 0.3135 - val_accuracy: 0.8900 - val_loss: 0.2920 - learning_rate: 1.0000e-04\n",
            "Epoch 7/20\n",
            "\u001b[1m105/105\u001b[0m \u001b[32m━━━━━━━━━━━━━━━━━━━━\u001b[0m\u001b[37m\u001b[0m \u001b[1m16s\u001b[0m 149ms/step - accuracy: 0.8901 - loss: 0.2764 - val_accuracy: 0.9019 - val_loss: 0.2391 - learning_rate: 1.0000e-04\n",
            "Epoch 8/20\n",
            "\u001b[1m105/105\u001b[0m \u001b[32m━━━━━━━━━━━━━━━━━━━━\u001b[0m\u001b[37m\u001b[0m \u001b[1m16s\u001b[0m 153ms/step - accuracy: 0.8995 - loss: 0.2501 - val_accuracy: 0.9079 - val_loss: 0.2386 - learning_rate: 1.0000e-04\n",
            "Epoch 9/20\n",
            "\u001b[1m105/105\u001b[0m \u001b[32m━━━━━━━━━━━━━━━━━━━━\u001b[0m\u001b[37m\u001b[0m \u001b[1m16s\u001b[0m 156ms/step - accuracy: 0.8901 - loss: 0.2926 - val_accuracy: 0.8888 - val_loss: 0.2598 - learning_rate: 1.0000e-04\n",
            "Epoch 10/20\n",
            "\u001b[1m105/105\u001b[0m \u001b[32m━━━━━━━━━━━━━━━━━━━━\u001b[0m\u001b[37m\u001b[0m \u001b[1m20s\u001b[0m 151ms/step - accuracy: 0.8934 - loss: 0.2601 - val_accuracy: 0.8840 - val_loss: 0.2425 - learning_rate: 1.0000e-04\n",
            "Epoch 11/20\n",
            "\u001b[1m105/105\u001b[0m \u001b[32m━━━━━━━━━━━━━━━━━━━━\u001b[0m\u001b[37m\u001b[0m \u001b[1m16s\u001b[0m 154ms/step - accuracy: 0.9122 - loss: 0.2289 - val_accuracy: 0.9103 - val_loss: 0.2058 - learning_rate: 1.0000e-04\n",
            "Epoch 12/20\n",
            "\u001b[1m105/105\u001b[0m \u001b[32m━━━━━━━━━━━━━━━━━━━━\u001b[0m\u001b[37m\u001b[0m \u001b[1m20s\u001b[0m 152ms/step - accuracy: 0.9139 - loss: 0.2207 - val_accuracy: 0.8900 - val_loss: 0.2789 - learning_rate: 1.0000e-04\n",
            "Epoch 13/20\n",
            "\u001b[1m105/105\u001b[0m \u001b[32m━━━━━━━━━━━━━━━━━━━━\u001b[0m\u001b[37m\u001b[0m \u001b[1m16s\u001b[0m 152ms/step - accuracy: 0.9134 - loss: 0.2224 - val_accuracy: 0.8780 - val_loss: 0.2648 - learning_rate: 1.0000e-04\n",
            "Epoch 14/20\n",
            "\u001b[1m105/105\u001b[0m \u001b[32m━━━━━━━━━━━━━━━━━━━━\u001b[0m\u001b[37m\u001b[0m \u001b[1m0s\u001b[0m 133ms/step - accuracy: 0.9146 - loss: 0.2257\n",
            "Epoch 14: ReduceLROnPlateau reducing learning rate to 4.999999873689376e-05.\n",
            "\u001b[1m105/105\u001b[0m \u001b[32m━━━━━━━━━━━━━━━━━━━━\u001b[0m\u001b[37m\u001b[0m \u001b[1m21s\u001b[0m 158ms/step - accuracy: 0.9145 - loss: 0.2257 - val_accuracy: 0.8696 - val_loss: 0.2976 - learning_rate: 1.0000e-04\n",
            "Epoch 15/20\n",
            "\u001b[1m105/105\u001b[0m \u001b[32m━━━━━━━━━━━━━━━━━━━━\u001b[0m\u001b[37m\u001b[0m \u001b[1m17s\u001b[0m 154ms/step - accuracy: 0.9192 - loss: 0.2009 - val_accuracy: 0.9246 - val_loss: 0.2058 - learning_rate: 5.0000e-05\n",
            "Epoch 16/20\n",
            "\u001b[1m105/105\u001b[0m \u001b[32m━━━━━━━━━━━━━━━━━━━━\u001b[0m\u001b[37m\u001b[0m \u001b[1m20s\u001b[0m 152ms/step - accuracy: 0.9294 - loss: 0.1839 - val_accuracy: 0.9067 - val_loss: 0.2297 - learning_rate: 5.0000e-05\n",
            "Epoch 17/20\n",
            "\u001b[1m105/105\u001b[0m \u001b[32m━━━━━━━━━━━━━━━━━━━━\u001b[0m\u001b[37m\u001b[0m \u001b[1m17s\u001b[0m 156ms/step - accuracy: 0.9320 - loss: 0.1906 - val_accuracy: 0.9258 - val_loss: 0.1967 - learning_rate: 5.0000e-05\n",
            "Epoch 18/20\n",
            "\u001b[1m105/105\u001b[0m \u001b[32m━━━━━━━━━━━━━━━━━━━━\u001b[0m\u001b[37m\u001b[0m \u001b[1m16s\u001b[0m 151ms/step - accuracy: 0.9293 - loss: 0.1874 - val_accuracy: 0.9187 - val_loss: 0.2099 - learning_rate: 5.0000e-05\n",
            "Epoch 19/20\n",
            "\u001b[1m105/105\u001b[0m \u001b[32m━━━━━━━━━━━━━━━━━━━━\u001b[0m\u001b[37m\u001b[0m \u001b[1m16s\u001b[0m 150ms/step - accuracy: 0.9228 - loss: 0.1922 - val_accuracy: 0.9151 - val_loss: 0.1950 - learning_rate: 5.0000e-05\n",
            "Epoch 20/20\n",
            "\u001b[1m105/105\u001b[0m \u001b[32m━━━━━━━━━━━━━━━━━━━━\u001b[0m\u001b[37m\u001b[0m \u001b[1m16s\u001b[0m 149ms/step - accuracy: 0.9298 - loss: 0.1840 - val_accuracy: 0.9354 - val_loss: 0.1685 - learning_rate: 5.0000e-05\n",
            "Best Validation Accuracy: 0.9354\n"
          ]
        }
      ]
    }
  ],
  "metadata": {
    "accelerator": "GPU",
    "colab": {
      "gpuType": "T4",
      "provenance": []
    },
    "kernelspec": {
      "display_name": "Python 3",
      "name": "python3"
    },
    "language_info": {
      "name": "python"
    }
  },
  "nbformat": 4,
  "nbformat_minor": 0
}